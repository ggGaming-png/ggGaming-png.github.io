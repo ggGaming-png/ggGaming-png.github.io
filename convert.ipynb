{
 "cells": [
  {
   "cell_type": "code",
   "execution_count": 59,
   "metadata": {},
   "outputs": [],
   "source": [
    "\n",
    "title = \"Deep Self-Adaptive Hashing for Image Retrieval\"\n",
    "publisher = \" CoRR abs/2108.07094 (2021)\"\n",
    "web_link = \"https://arxiv.org/abs/2108.07094\" \n",
    "abstract =\"Hashing technology has been widely used in image retrieval due to its computational and storage efficiency. Recently, deep unsupervised hashing methods have attracted increasing attention due to the high cost of human annotations in the real world and the superiority of deep learning technology. However, most deep unsupervised hashing methods usually pre-compute a similarity matrix to model the pairwise relationship in the pre-trained feature space. Then this similarity matrix would be used to guide hash learning, in which most of the data pairs are treated equivalently. The above process is confronted with the following defects: 1) The pre-computed similarity matrix is inalterable and disconnected from the hash learning process, which cannot explore the underlying semantic information. 2) The informative data pairs may be buried by the large number of less-informative data pairs. To solve the aforementioned problems, we propose a Deep Self-Adaptive Hashing (DSAH) model to adaptively capture the semantic information with two special designs: Adaptive Neighbor Discovery (AND) and Pairwise Information Content (PIC). Firstly, we adopt the AND to initially construct a neighborhood-based similarity matrix, and then refine this initial similarity matrix with a novel update strategy to further investigate the semantic structure behind the learned representation. Secondly, we measure the priorities of data pairs with PIC and assign adaptive weights to them, which is relies on the assumption that more dissimilar data pairs contain more discriminative information for hash learning. Extensive experiments on several datasets demonstrate that the above two technologies facilitate the deep hashing model to achieve superior performance.\"\n",
    "bitex = \"\"\n"
   ]
  },
  {
   "cell_type": "code",
   "execution_count": 60,
   "metadata": {},
   "outputs": [],
   "source": [
    "str1 = \"<p style=\\\"margin:0\\\"> <a style=\\\"margin:0; font-size:100%; font-weight:bold\\\" href=\\\"{}\\\"> {}</a>  <br> <i>{}</i>  <br><button class=\\\"accordion\\\"> \".format(web_link,title,publisher)\n",
    "str2 = \" Abstract</button> \"\n",
    "str3 = \" <div class=\\\"panel\\\" style=\\\"background-color: #F1F1F1; color: #666; padding: 10px;\\\"><p>{}</p></div>\".format(abstract)\n",
    "str4 = \"<p style=\\\"margin:0\\\"><button class=\\\"accordion\\\">BibTeX citation</button>\"\n",
    "str5 = \"<div class=\\\"panel\\\" style=\\\"background-color: #F1F1F1; color: #666; padding: 10px;\\\"><p> <pre> <code>\"\n",
    "str6 = \"{}\"\n",
    "str7 = \" </code> </pre> </p></div>\"\n",
    "str8 = \" <p style=\\\"margin:0\\\"><button class=\\\"accordion\\\">Paper Link </button>\"\n",
    "str9 = \" <div class=\\\"panel\\\" style=\\\"background-color: #F1F1F1; color: #666; padding: 10px;\\\"> <a href=\\\"{}\\\">{}<br></a> </div>\".format(web_link,web_link)"
   ]
  },
  {
   "cell_type": "code",
   "execution_count": 61,
   "metadata": {},
   "outputs": [
    {
     "name": "stdout",
     "output_type": "stream",
     "text": [
      "<p style=\"margin:0\"> <a style=\"margin:0; font-size:100%; font-weight:bold\" href=\"https://arxiv.org/abs/2108.07094\"> Deep Self-Adaptive Hashing for Image Retrieval</a>  <br> <i> CoRR abs/2108.07094 (2021)</i>  <br><button class=\"accordion\"> \n",
      " Abstract</button> \n",
      " <div class=\"panel\" style=\"background-color: #F1F1F1; color: #666; padding: 10px;\"><p>Hashing technology has been widely used in image retrieval due to its computational and storage efficiency. Recently, deep unsupervised hashing methods have attracted increasing attention due to the high cost of human annotations in the real world and the superiority of deep learning technology. However, most deep unsupervised hashing methods usually pre-compute a similarity matrix to model the pairwise relationship in the pre-trained feature space. Then this similarity matrix would be used to guide hash learning, in which most of the data pairs are treated equivalently. The above process is confronted with the following defects: 1) The pre-computed similarity matrix is inalterable and disconnected from the hash learning process, which cannot explore the underlying semantic information. 2) The informative data pairs may be buried by the large number of less-informative data pairs. To solve the aforementioned problems, we propose a Deep Self-Adaptive Hashing (DSAH) model to adaptively capture the semantic information with two special designs: Adaptive Neighbor Discovery (AND) and Pairwise Information Content (PIC). Firstly, we adopt the AND to initially construct a neighborhood-based similarity matrix, and then refine this initial similarity matrix with a novel update strategy to further investigate the semantic structure behind the learned representation. Secondly, we measure the priorities of data pairs with PIC and assign adaptive weights to them, which is relies on the assumption that more dissimilar data pairs contain more discriminative information for hash learning. Extensive experiments on several datasets demonstrate that the above two technologies facilitate the deep hashing model to achieve superior performance.</p></div>\n",
      "<p style=\"margin:0\"><button class=\"accordion\">BibTeX citation</button>\n",
      "<div class=\"panel\" style=\"background-color: #F1F1F1; color: #666; padding: 10px;\"><p> <pre> <code>\n",
      "{}\n",
      " </code> </pre> </p></div>\n",
      " <p style=\"margin:0\"><button class=\"accordion\">Paper Link </button>\n",
      " <div class=\"panel\" style=\"background-color: #F1F1F1; color: #666; padding: 10px;\"> <a href=\"https://arxiv.org/abs/2108.07094\">https://arxiv.org/abs/2108.07094<br></a> </div>\n"
     ]
    }
   ],
   "source": [
    "print(str1)\n",
    "print(str2) \n",
    "print(str3) \n",
    "print(str4) \n",
    "print(str5) \n",
    "print(str6) \n",
    "print(str7) \n",
    "print(str8) \n",
    "print(str9) \n",
    "\n"
   ]
  }
 ],
 "metadata": {
  "kernelspec": {
   "display_name": "Python 3.8.8 ('base')",
   "language": "python",
   "name": "python3"
  },
  "language_info": {
   "codemirror_mode": {
    "name": "ipython",
    "version": 3
   },
   "file_extension": ".py",
   "mimetype": "text/x-python",
   "name": "python",
   "nbconvert_exporter": "python",
   "pygments_lexer": "ipython3",
   "version": "3.8.8"
  },
  "orig_nbformat": 4,
  "vscode": {
   "interpreter": {
    "hash": "eb50927764c5a99aecd19745bd6d7be0126489f804b8b6051734601fb2dbc097"
   }
  }
 },
 "nbformat": 4,
 "nbformat_minor": 2
}
